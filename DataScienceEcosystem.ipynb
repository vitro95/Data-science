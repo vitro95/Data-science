{
 "cells": [
  {
   "cell_type": "markdown",
   "id": "f955f9aa-2e9a-41ad-af3a-0f09367bd3b1",
   "metadata": {},
   "source": [
    "# Data Science Tools and Ecosystem"
   ]
  },
  {
   "cell_type": "markdown",
   "id": "33e2739a-75b2-4cec-b17c-41731b1266d7",
   "metadata": {
    "tags": []
   },
   "source": [
    "In this notebook, Data Science Tools and Ecosystem are summarized."
   ]
  },
  {
   "cell_type": "markdown",
   "id": "2c46b41c-5321-4b8f-bb63-0e357790f96c",
   "metadata": {},
   "source": [
    "<b> Objectives: <b>"
   ]
  },
  {
   "cell_type": "markdown",
   "id": "9e3a2afa-c209-4e63-bc15-1c141fcbec0f",
   "metadata": {},
   "source": [
    "* List popular languages for Data Science\n",
    "* List some of the commonly used libraries by Data Science\n",
    "* Evaluate simple arithmetic expressions in Python"
   ]
  },
  {
   "cell_type": "markdown",
   "id": "8031ea3c-1309-4676-8446-d2657c656d51",
   "metadata": {
    "tags": []
   },
   "source": [
    "Some of the popular languages that Data Scientists use are:"
   ]
  },
  {
   "cell_type": "markdown",
   "id": "296fd699-87cb-4101-958b-0dec2501b9dc",
   "metadata": {},
   "source": [
    "1. Python\n",
    "2. R\n",
    "3. Julia"
   ]
  },
  {
   "cell_type": "markdown",
   "id": "9c18d96f-ce88-4aee-baf5-6721234e1fcc",
   "metadata": {},
   "source": [
    "Some of the commonly used libraries used by Data Scientists include:"
   ]
  },
  {
   "cell_type": "markdown",
   "id": "080c1ff2-f650-47df-b55c-4792fab4d79c",
   "metadata": {},
   "source": [
    "1. Pandas\n",
    "2. Matplotlib\n",
    "3. Scikit-Learn"
   ]
  },
  {
   "cell_type": "markdown",
   "id": "5b40cdf8-9491-48a2-9298-938d6453d5a0",
   "metadata": {},
   "source": [
    "|Data Science Tools|\n",
    "|------------------|\n",
    "|Jupyter Notebooks|\n",
    "|RStudio|\n",
    "|PyTorch|"
   ]
  },
  {
   "cell_type": "markdown",
   "id": "8644c4d6-6640-4e59-9413-7e64e73f7a43",
   "metadata": {
    "tags": []
   },
   "source": [
    "### Below are a few examples of evaluating arithmetic expressions in Python"
   ]
  },
  {
   "cell_type": "markdown",
   "id": "bed85e7d-6dea-4f81-8c67-deed6c1a48ee",
   "metadata": {},
   "source": [
    "This is a simple arithmetic expression to mutiply then add integers"
   ]
  },
  {
   "cell_type": "code",
   "execution_count": 11,
   "id": "5701d640-ef5c-4e50-b01a-3d58dd92ce2d",
   "metadata": {
    "tags": []
   },
   "outputs": [
    {
     "data": {
      "text/plain": [
       "17"
      ]
     },
     "execution_count": 11,
     "metadata": {},
     "output_type": "execute_result"
    }
   ],
   "source": [
    "(3*4)+5"
   ]
  },
  {
   "cell_type": "markdown",
   "id": "9af46637-96ba-4db3-b35e-9df6d6bcd708",
   "metadata": {},
   "source": [
    "This will convert 200 minutes to hours by diving by 60"
   ]
  },
  {
   "cell_type": "code",
   "execution_count": 13,
   "id": "69ae2398-9a9c-4341-93ee-f6cf6bfc5733",
   "metadata": {
    "tags": []
   },
   "outputs": [
    {
     "name": "stdout",
     "output_type": "stream",
     "text": [
      "3.3333333333333335\n"
     ]
    }
   ],
   "source": [
    "minutes = 200\n",
    "\n",
    "hours = minutes/60\n",
    "print (hours)"
   ]
  },
  {
   "cell_type": "markdown",
   "id": "a166472b-d310-4dc3-9a8b-205961399f3b",
   "metadata": {},
   "source": [
    "## Author"
   ]
  },
  {
   "cell_type": "markdown",
   "id": "9c5a0408-d85c-4c40-9bb6-ec8d29349cea",
   "metadata": {},
   "source": [
    "Vittorio"
   ]
  },
  {
   "cell_type": "code",
   "execution_count": null,
   "id": "5f93abc9-0dbd-4f0c-a17d-5b5f66f3ed31",
   "metadata": {},
   "outputs": [],
   "source": []
  }
 ],
 "metadata": {
  "kernelspec": {
   "display_name": "Python 3 (ipykernel)",
   "language": "python",
   "name": "python3"
  },
  "language_info": {
   "codemirror_mode": {
    "name": "ipython",
    "version": 3
   },
   "file_extension": ".py",
   "mimetype": "text/x-python",
   "name": "python",
   "nbconvert_exporter": "python",
   "pygments_lexer": "ipython3",
   "version": "3.11.5"
  }
 },
 "nbformat": 4,
 "nbformat_minor": 5
}
